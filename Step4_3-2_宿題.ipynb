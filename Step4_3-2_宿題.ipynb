{
 "cells": [
  {
   "cell_type": "markdown",
   "id": "32d3c2be",
   "metadata": {},
   "source": [
    "# "
   ]
  },
  {
   "cell_type": "markdown",
   "id": "06ae716e",
   "metadata": {},
   "source": [
    "# 1. 起動方法（CLI）"
   ]
  },
  {
   "cell_type": "markdown",
   "id": "9348802e",
   "metadata": {},
   "source": [
    "##   FastAPI"
   ]
  },
  {
   "cell_type": "code",
   "execution_count": null,
   "id": "cbc509cb",
   "metadata": {},
   "outputs": [],
   "source": [
    "pip install fastapi uvicorn　　　　　"
   ]
  },
  {
   "cell_type": "code",
   "execution_count": null,
   "id": "c38ab867",
   "metadata": {},
   "outputs": [],
   "source": [
    "# Windows, Macほぼ共通\n",
    "uvicorn main:app --reload --port 8001      #\"main.py\"の場合のPrompt。\"main\"部分に作成したpythonファイル名(.pyは除く)を代替"
   ]
  },
  {
   "cell_type": "markdown",
   "id": "4980b02d",
   "metadata": {},
   "source": [
    "# "
   ]
  },
  {
   "cell_type": "markdown",
   "id": "7fe8fee2",
   "metadata": {},
   "source": [
    "# 3. API Requestの準備"
   ]
  },
  {
   "cell_type": "code",
   "execution_count": 1,
   "id": "f0a02d80",
   "metadata": {},
   "outputs": [],
   "source": [
    "import requests  # import"
   ]
  },
  {
   "cell_type": "code",
   "execution_count": 2,
   "id": "e3b0efb9",
   "metadata": {},
   "outputs": [],
   "source": [
    "##End pointの設定　  -    port + \"/triple\"\n",
    "FastAPI_url = 'http://127.0.0.1:8001/triple'  # FastAPI /  port 8001"
   ]
  },
  {
   "cell_type": "markdown",
   "id": "4f1f1d68",
   "metadata": {},
   "source": [
    "# "
   ]
  },
  {
   "cell_type": "markdown",
   "id": "b8a8eef6",
   "metadata": {},
   "source": [
    "# 4. API document / リクエストボディの作成"
   ]
  },
  {
   "cell_type": "markdown",
   "id": "689ca629",
   "metadata": {},
   "source": [
    "## FastAPIのDocs確認"
   ]
  },
  {
   "cell_type": "code",
   "execution_count": 3,
   "id": "40d89471",
   "metadata": {},
   "outputs": [],
   "source": [
    "# FastAPI / API docs通りにリクエストボディ（body）を作成。\n",
    "body = {\n",
    "    \"number\" : 20\n",
    "}"
   ]
  },
  {
   "cell_type": "markdown",
   "id": "a368d80d",
   "metadata": {},
   "source": [
    "# "
   ]
  },
  {
   "cell_type": "markdown",
   "id": "2baf5abd",
   "metadata": {},
   "source": [
    "# POST & Responseの確認（正常パターン）"
   ]
  },
  {
   "cell_type": "markdown",
   "id": "d907f26e",
   "metadata": {},
   "source": [
    "##   FastAPI"
   ]
  },
  {
   "cell_type": "code",
   "execution_count": 4,
   "id": "4cf70cf9",
   "metadata": {},
   "outputs": [],
   "source": [
    "res_fastapi = requests.post(FastAPI_url,json = body)  #Endpointは\"FastAPI_url\"を指定"
   ]
  },
  {
   "cell_type": "code",
   "execution_count": 5,
   "id": "12bbdccb",
   "metadata": {},
   "outputs": [
    {
     "data": {
      "text/plain": [
       "<Response [200]>"
      ]
     },
     "execution_count": 5,
     "metadata": {},
     "output_type": "execute_result"
    }
   ],
   "source": [
    "res_fastapi "
   ]
  },
  {
   "cell_type": "code",
   "execution_count": 6,
   "id": "78b85fcc",
   "metadata": {
    "scrolled": true
   },
   "outputs": [
    {
     "data": {
      "text/plain": [
       "{'result': 60}"
      ]
     },
     "execution_count": 6,
     "metadata": {},
     "output_type": "execute_result"
    }
   ],
   "source": [
    "res_fastapi .json()"
   ]
  },
  {
   "cell_type": "markdown",
   "id": "09d17f05",
   "metadata": {},
   "source": [
    "# "
   ]
  },
  {
   "cell_type": "markdown",
   "id": "0bdb7a44",
   "metadata": {},
   "source": [
    "# "
   ]
  },
  {
   "cell_type": "markdown",
   "id": "3017c31e",
   "metadata": {},
   "source": [
    "# Errorパターン：文字列のPOST"
   ]
  },
  {
   "cell_type": "code",
   "execution_count": null,
   "id": "92ee4708",
   "metadata": {},
   "outputs": [],
   "source": [
    "# bodyを文字列としてみる\n",
    "body = {\n",
    "    \"number\" : \"a\"\n",
    "}"
   ]
  },
  {
   "cell_type": "markdown",
   "id": "d2a7cb1a",
   "metadata": {},
   "source": [
    "##   2-2.FastAPI"
   ]
  },
  {
   "cell_type": "code",
   "execution_count": null,
   "id": "d9aa6cc1",
   "metadata": {},
   "outputs": [],
   "source": [
    "res_fastapi = requests.post(FastAPI_url,json = body)  #Endpointは\"FastAPI_url\"を指定"
   ]
  },
  {
   "cell_type": "code",
   "execution_count": null,
   "id": "82d8e69a",
   "metadata": {},
   "outputs": [],
   "source": [
    "res_fastapi "
   ]
  },
  {
   "cell_type": "code",
   "execution_count": null,
   "id": "765ef8c0",
   "metadata": {
    "scrolled": true
   },
   "outputs": [],
   "source": [
    "res_fastapi .json()"
   ]
  },
  {
   "cell_type": "markdown",
   "id": "c7be5ba8",
   "metadata": {},
   "source": [
    "### 「文字列：String」が入力となった時点でError。　型定義に合っていない入力は受け入れない仕様"
   ]
  },
  {
   "cell_type": "markdown",
   "id": "ebbd7033",
   "metadata": {},
   "source": [
    "# "
   ]
  },
  {
   "cell_type": "markdown",
   "id": "74907d3f",
   "metadata": {},
   "source": [
    "# "
   ]
  },
  {
   "cell_type": "code",
   "execution_count": null,
   "id": "4bea75fc",
   "metadata": {},
   "outputs": [],
   "source": []
  },
  {
   "cell_type": "code",
   "execution_count": null,
   "id": "5732719c",
   "metadata": {},
   "outputs": [],
   "source": []
  },
  {
   "cell_type": "code",
   "execution_count": null,
   "id": "e59e3447",
   "metadata": {},
   "outputs": [],
   "source": []
  },
  {
   "cell_type": "code",
   "execution_count": null,
   "id": "dd383893",
   "metadata": {},
   "outputs": [],
   "source": []
  },
  {
   "cell_type": "code",
   "execution_count": null,
   "id": "bf895052",
   "metadata": {},
   "outputs": [],
   "source": []
  }
 ],
 "metadata": {
  "kernelspec": {
   "display_name": "Python 3 (ipykernel)",
   "language": "python",
   "name": "python3"
  },
  "language_info": {
   "codemirror_mode": {
    "name": "ipython",
    "version": 3
   },
   "file_extension": ".py",
   "mimetype": "text/x-python",
   "name": "python",
   "nbconvert_exporter": "python",
   "pygments_lexer": "ipython3",
   "version": "3.10.9"
  }
 },
 "nbformat": 4,
 "nbformat_minor": 5
}
